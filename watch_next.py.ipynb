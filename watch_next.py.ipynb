{
 "cells": [
  {
   "cell_type": "code",
   "execution_count": 9,
   "id": "dfa581e0",
   "metadata": {},
   "outputs": [],
   "source": [
    "import spacy"
   ]
  },
  {
   "cell_type": "code",
   "execution_count": 10,
   "id": "16cef5cb",
   "metadata": {},
   "outputs": [],
   "source": [
    "from sklearn.metrics.pairwise import cosine_similarity"
   ]
  },
  {
   "cell_type": "code",
   "execution_count": 11,
   "id": "678c75e8",
   "metadata": {},
   "outputs": [],
   "source": [
    "def load_movie_descriptions(file_path):\n",
    "    with open(file_path, 'r', encoding='utf-8') as file:\n",
    "        return file.readlines()\n"
   ]
  },
  {
   "cell_type": "code",
   "execution_count": 12,
   "id": "cf10e497",
   "metadata": {},
   "outputs": [],
   "source": [
    "def get_similar_movies(movie_descriptions, target_movie_description, top_n=5):\n",
    "    nlp = spacy.load('en_core_web_sm')\n",
    "    movie_vectors = [nlp(description) for description in movie_descriptions]\n",
    "    target_vector = nlp(target_movie_description)\n",
    "\n",
    "    cosine_similarities = [cosine_similarity(target_vector.vector.reshape(1, -1), vector.vector.reshape(1, -1))[0][0] for vector in movie_vectors]\n",
    "    similar_movies_indices = sorted(range(len(cosine_similarities)), key=lambda i: cosine_similarities[i])[-top_n:][::-1]\n",
    "    similar_movies = [movie_descriptions[idx] for idx in similar_movies_indices]\n",
    "\n",
    "    return similar_movies"
   ]
  },
  {
   "cell_type": "code",
   "execution_count": 14,
   "id": "ac9d8208",
   "metadata": {},
   "outputs": [
    {
     "name": "stdout",
     "output_type": "stream",
     "text": [
      "Recommended movies to watch next:\n",
      "1. Movie G :The world at an end, a dying mother sends her young son on a quest to find the place that grants wishes.\n",
      "2. Movie F :In the last moments of World War II, a young German soldier fighting for survival finds a Nazi captain's uniform. Impersonating an officer, the man quickly takes on the monstrous identity of the perpetrators he is trying to escape from.\n",
      "3. Movie H :A musician helps a young singer and actress find fame, even as age and alcoholism send his own career into a downward spiral.\n",
      "4. Movie C :A darkness swirls at the center of a world-renowned dance company, one that will engulf the artistic director, an ambitious young dancer, and a grieving psychotherapist. Some will succumb to the nightmare. Others will finally wake up.\n",
      "5. Movie B :After the death of Superman, several new people present themselves as possible successors.\n"
     ]
    }
   ],
   "source": [
    "def main():\n",
    "    movie_descriptions = load_movie_descriptions('movies.txt')\n",
    "    target_movie_description = \"Will he save their world or destroy it? When the Hulk becomes too dangerous for the Earth, the Illuminati trick Hulk into a shuttle and launch him into space to a planet where the Hulk can live in peace. Unfortunately, Hulk lands on the planet Sakaar where he is sold into slavery and trained as a gladiator.\"\n",
    "\n",
    "    similar_movies = get_similar_movies(movie_descriptions, target_movie_description)\n",
    "\n",
    "    print(\"Recommended movies to watch next:\")\n",
    "    for idx, movie in enumerate(similar_movies, 1):\n",
    "        print(f\"{idx}. {movie.strip()}\")\n",
    "\n",
    "if __name__ == \"__main__\":\n",
    "    main()"
   ]
  },
  {
   "cell_type": "code",
   "execution_count": null,
   "id": "72370286",
   "metadata": {},
   "outputs": [],
   "source": []
  },
  {
   "cell_type": "code",
   "execution_count": null,
   "id": "5eb123b6",
   "metadata": {},
   "outputs": [],
   "source": []
  },
  {
   "cell_type": "code",
   "execution_count": null,
   "id": "e2bec57c",
   "metadata": {},
   "outputs": [],
   "source": []
  },
  {
   "cell_type": "code",
   "execution_count": null,
   "id": "7dc609fd",
   "metadata": {},
   "outputs": [],
   "source": []
  }
 ],
 "metadata": {
  "kernelspec": {
   "display_name": "Python 3 (ipykernel)",
   "language": "python",
   "name": "python3"
  },
  "language_info": {
   "codemirror_mode": {
    "name": "ipython",
    "version": 3
   },
   "file_extension": ".py",
   "mimetype": "text/x-python",
   "name": "python",
   "nbconvert_exporter": "python",
   "pygments_lexer": "ipython3",
   "version": "3.10.9"
  }
 },
 "nbformat": 4,
 "nbformat_minor": 5
}
